{
  "cells": [
    {
      "cell_type": "markdown",
      "metadata": {
        "id": "view-in-github",
        "colab_type": "text"
      },
      "source": [
        "<a href=\"https://colab.research.google.com/github/efacundoargana/automating-product-descriptions/blob/main/automating_product_descriptions.ipynb\" target=\"_parent\"><img src=\"https://colab.research.google.com/assets/colab-badge.svg\" alt=\"Open In Colab\"/></a>"
      ]
    },
    {
      "cell_type": "code",
      "execution_count": null,
      "metadata": {
        "id": "GEE871y5y7Xa"
      },
      "outputs": [],
      "source": [
        "%pip install openai --upgrade"
      ]
    },
    {
      "cell_type": "code",
      "execution_count": null,
      "metadata": {
        "id": "6Aw5NLNny7Xc"
      },
      "outputs": [],
      "source": [
        "from openai import OpenAI\n",
        "import os\n",
        "import textwrap"
      ]
    },
    {
      "cell_type": "code",
      "execution_count": null,
      "metadata": {
        "id": "59NhT7Dqy7Xd"
      },
      "outputs": [],
      "source": [
        "os.environ['OPENAI_API_KEY'] = 'insert-api-key-here'"
      ]
    },
    {
      "cell_type": "code",
      "execution_count": null,
      "metadata": {
        "id": "VblQJDKiy7Xd"
      },
      "outputs": [],
      "source": [
        "text_wrapper = textwrap.TextWrapper(width=80)\n",
        "prompt = '''Act as a fashion retailer, you are responsible for writing effective product descriptions.\n",
        "Use all of the images to create a product description for the following product.'''"
      ]
    },
    {
      "cell_type": "code",
      "execution_count": null,
      "metadata": {
        "id": "vD8Ng_I-y7Xd"
      },
      "outputs": [],
      "source": [
        "client = OpenAI()\n",
        "\n",
        "response = client.chat.completions.create(\n",
        "    model=\"gpt-4-vision-preview\",\n",
        "    messages=[\n",
        "        {\n",
        "            \"role\": \"user\",\n",
        "            \"content\": [\n",
        "                {\"type\": \"text\", \"text\": prompt},\n",
        "                {\n",
        "                    \"type\": \"image_url\",\n",
        "                    \"image_url\": {\n",
        "                        \"url\": \"https://storage.googleapis.com/strapi_cms_assets/skinny-trousers.webp\"\n",
        "                    },\n",
        "                },\n",
        "            ],\n",
        "        }\n",
        "    ],\n",
        "    max_tokens=300,\n",
        ")"
      ]
    },
    {
      "cell_type": "code",
      "execution_count": null,
      "metadata": {
        "id": "isoEw97oy7Xe",
        "outputId": "a8fdd35c-4f44-4654-e7ec-869ed9c743d1"
      },
      "outputs": [
        {
          "name": "stdout",
          "output_type": "stream",
          "text": [
            "Elevate your formal attire with our Classic Navy Trousers – perfect for the\n",
            "modern professional. These trousers feature a sleek and versatile navy hue that\n",
            "easily transitions from a critical board meeting to an elegant evening event.\n",
            "Crafted with a blend of premium fabrics, they offer both durability and comfort,\n",
            "ensuring you stay comfortable throughout your busy day.  The tailored fit\n",
            "provides a sharp silhouette that complements your physique, while the precise\n",
            "lines and minimalistic design convey sophistication. The front crease adds a\n",
            "touch of traditional styling, ensuring you look polished at all times. Equipped\n",
            "with side pockets for functionality and a concealed front fastening for a\n",
            "seamless look, these trousers are as practical as they are stylish.  Pair them\n",
            "with a crisp white shirt and polished oxfords for a timeless look, or dress them\n",
            "down with a casual button-down for a smart-casual affair. These trousers are a\n",
            "must-have staple for any discerning wardrobe, blending classic style with\n",
            "contemporary tailoring. Secure your pair today and step out with confidence in\n",
            "any setting.\n"
          ]
        }
      ],
      "source": [
        "print(text_wrapper.fill(response.choices[0].message.content))"
      ]
    },
    {
      "cell_type": "markdown",
      "metadata": {
        "id": "BjflX6ohy7Xf"
      },
      "source": [
        "------------------------------------"
      ]
    },
    {
      "cell_type": "markdown",
      "metadata": {
        "id": "5iL1d5yyy7Xf"
      },
      "source": [
        "## Improved Prompt"
      ]
    },
    {
      "cell_type": "markdown",
      "metadata": {
        "id": "LzwXbBPfy7Xg"
      },
      "source": [
        "Improved prompt by adding examples of product descriptions to remove the key features section and to restrict the length of each product description to ~3 sentences."
      ]
    },
    {
      "cell_type": "code",
      "execution_count": null,
      "metadata": {
        "id": "71OdZHTJy7Xg"
      },
      "outputs": [],
      "source": [
        "examples = [\n",
        "    \"Elevate your professional wardrobe with our Classic Navy Dress Pants, a sartorial choice for the modern gentleman.\",\n",
        "    \"Refine your evening attire with our Elegant Black Cocktail Dress, an essential selection for the contemporary woman.\",\n",
        "    \"Upgrade your casual ensemble with our Sleek White Sneakers, a versatile addition for the fashion-forward individual.\"\n",
        "]\n",
        "product_context = \"\""
      ]
    },
    {
      "cell_type": "code",
      "execution_count": null,
      "metadata": {
        "id": "GRWk-MyYy7Xg"
      },
      "outputs": [],
      "source": [
        "improved_prompt = f\"\"\"Act as a fashion retailer, you are responsible for writing effective\n",
        "product descriptions. Use all of the images to create a product description for the following\n",
        "product.\n",
        "\n",
        "Here are some examples in terms of the style, tone and length for future product descriptions:\n",
        "1. {examples[0]}\n",
        "2. {examples[1]}\n",
        "3. {examples[2]}\n",
        "\n",
        "Rules:\n",
        "- The product description must be between 2 - 4 sentences in length.\n",
        "- The product description must be written in a professional tone.\n",
        "\n",
        "{product_context}\n",
        "\n",
        "Use the image(s) to create a product description for the following product\"\"\""
      ]
    },
    {
      "cell_type": "code",
      "execution_count": null,
      "metadata": {
        "id": "AQrIY_kyy7Xg"
      },
      "outputs": [],
      "source": [
        "response = client.chat.completions.create(\n",
        "    model=\"gpt-4-vision-preview\",\n",
        "    messages=[\n",
        "        {\n",
        "            \"role\": \"user\",\n",
        "            \"content\": [\n",
        "                {\"type\": \"text\", \"text\": improved_prompt},\n",
        "                {\n",
        "                    \"type\": \"image_url\",\n",
        "                    \"image_url\": {\n",
        "                        \"url\": \"https://storage.googleapis.com/strapi_cms_assets/skinny-trousers.webp\"\n",
        "                    },\n",
        "                },\n",
        "            ],\n",
        "        }\n",
        "    ],\n",
        "    max_tokens=300,\n",
        ")"
      ]
    },
    {
      "cell_type": "code",
      "execution_count": null,
      "metadata": {
        "id": "yYXoEcNdy7Xh",
        "outputId": "d43e8fd4-bc40-46b5-93bd-8c997e63a57e"
      },
      "outputs": [
        {
          "name": "stdout",
          "output_type": "stream",
          "text": [
            "Discover functional sophistication with our Champion Cuffed Cargo Trousers in\n",
            "classic black. Expertly tailored to provide both comfort and versatility, these\n",
            "trousers feature practical cargo pockets and stylish cuffed hems, ideal for the\n",
            "dynamic man on-the-go. The sleek design ensures a seamless transition from day\n",
            "to night, making them an indispensable part of your wardrobe rotation.\n"
          ]
        }
      ],
      "source": [
        "print(text_wrapper.fill(response.choices[0].message.content))"
      ]
    },
    {
      "cell_type": "markdown",
      "metadata": {
        "id": "AyF2d2oBy7Xh"
      },
      "source": [
        "--------------------------------------------\n",
        "\n",
        "## Multiple Images and Product Context"
      ]
    },
    {
      "cell_type": "code",
      "execution_count": null,
      "metadata": {
        "id": "Vb5RU4uty7Xh"
      },
      "outputs": [],
      "source": [
        "product_context = \"The item is Champion cuffed cargo trousers in black. It is not the hoodie.\"\n",
        "\n",
        "improved_prompt = f\"\"\"Act as a fashion retailer, you are responsible for writing effective\n",
        "product descriptions. Use all of the images to create a product description for the following\n",
        "product.\n",
        "\n",
        "Here are some examples in terms of the style, tone and length for future product descriptions:\n",
        "1. {examples[0]}\n",
        "2. {examples[1]}\n",
        "3. {examples[2]}\n",
        "\n",
        "Rules:\n",
        "- The product description must be between 2 - 4 sentences in length.\n",
        "- The product description must be written in a professional tone.\n",
        "\n",
        "{product_context}\n",
        "\n",
        "Use the image(s) to create a product description for the following product\"\"\""
      ]
    },
    {
      "cell_type": "code",
      "execution_count": null,
      "metadata": {
        "id": "LmltZeL6y7Xh"
      },
      "outputs": [],
      "source": [
        "response = client.chat.completions.create(\n",
        "    model=\"gpt-4-vision-preview\",\n",
        "    messages=[\n",
        "        {\n",
        "            \"role\": \"user\",\n",
        "            \"content\": [\n",
        "                {\"type\": \"text\", \"text\": improved_prompt},\n",
        "                {\n",
        "                    \"type\": \"image_url\",\n",
        "                    \"image_url\": {\n",
        "                        \"url\": \"https://storage.googleapis.com/strapi_cms_assets/205878603-2.webp\"\n",
        "                    },\n",
        "                },\n",
        "                {\n",
        "                    \"type\": \"image_url\",\n",
        "                    \"image_url\": {\n",
        "                        \"url\": \"https://storage.googleapis.com/strapi_cms_assets/205878603-3.jpeg\"\n",
        "                    },\n",
        "                },\n",
        "            ],\n",
        "        }\n",
        "    ],\n",
        "    max_tokens=300,\n",
        ")"
      ]
    },
    {
      "cell_type": "code",
      "execution_count": null,
      "metadata": {
        "id": "XrSLRaaiy7Xh",
        "outputId": "181699c2-25d6-42e5-c199-8be13ba0ac58"
      },
      "outputs": [
        {
          "name": "stdout",
          "output_type": "stream",
          "text": [
            "Discover functional fashion with our Champion Cuffed Cargo Trousers in versatile\n",
            "black. Crafted for comfort and durability, these trousers feature an adjustable\n",
            "drawstring waist and characteristic spacious pockets, ideal for an on-the-go\n",
            "lifestyle. The ribbed cuffs provide a modern silhouette, making these cargos an\n",
            "impeccable choice for your leisurewear collection.\n"
          ]
        }
      ],
      "source": [
        "print(text_wrapper.fill(response.choices[0].message.content))"
      ]
    }
  ],
  "metadata": {
    "kernelspec": {
      "display_name": "base",
      "language": "python",
      "name": "python3"
    },
    "language_info": {
      "codemirror_mode": {
        "name": "ipython",
        "version": 3
      },
      "file_extension": ".py",
      "mimetype": "text/x-python",
      "name": "python",
      "nbconvert_exporter": "python",
      "pygments_lexer": "ipython3",
      "version": "3.9.13"
    },
    "colab": {
      "provenance": [],
      "include_colab_link": true
    }
  },
  "nbformat": 4,
  "nbformat_minor": 0
}